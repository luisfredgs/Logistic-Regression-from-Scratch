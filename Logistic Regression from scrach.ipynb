{
 "cells": [
  {
   "cell_type": "code",
   "execution_count": 8,
   "metadata": {},
   "outputs": [],
   "source": [
    "import pandas as pd\n",
    "import numpy as np\n",
    "import matplotlib.pyplot as plt\n",
    "from sklearn.datasets import make_classification\n",
    "from matplotlib.colors import ListedColormap\n",
    "from sklearn.utils import shuffle"
   ]
  },
  {
   "cell_type": "code",
   "execution_count": 2,
   "metadata": {},
   "outputs": [],
   "source": [
    "X,y = make_classification(n_samples=100, n_features=2, n_informative=2,n_redundant=0, \n",
    "                          n_repeated=0, n_classes=2, n_clusters_per_class=2, class_sep=2,\n",
    "                          flip_y=0.01, weights=[0.5,0.5], random_state=5)"
   ]
  },
  {
   "cell_type": "code",
   "execution_count": 3,
   "metadata": {},
   "outputs": [],
   "source": [
    "X_std = np.copy(X)\n",
    "\n",
    "X_std[:,0] = (X_std[:,0] - X_std[:,0].mean()) / X_std[:,0].std()\n",
    "X_std[:,1] = (X_std[:,1] - X_std[:,1].mean()) / X_std[:,1].std()"
   ]
  },
  {
   "cell_type": "code",
   "execution_count": 5,
   "metadata": {},
   "outputs": [],
   "source": [
    "def sigmoid(X, theta):\n",
    "    z = np.dot(X, theta[1:]) + theta[0]\n",
    "    \n",
    "    return 1.0 / ( 1.0 + np.exp(-z))\n",
    "\n",
    "def cost_function(y, hx):\n",
    "    j = -y.dot(np.log(hx)) - ((1 - y).dot(np.log(1-hx)))\n",
    "    return j\n",
    "\n",
    "def predict(X, theta):\n",
    "    return np.where(sigmoid(X,theta) >= 0.5, 1, 0)"
   ]
  },
  {
   "cell_type": "code",
   "execution_count": 19,
   "metadata": {},
   "outputs": [],
   "source": [
    "def decision_boundry(X, y, theta, classifier, h=0.02):\n",
    "    # h = step size in the mesh\n",
    "  \n",
    "    # setup marker generator and color map\n",
    "    markers = ('s', 'x', 'o', '^', 'v')\n",
    "    colors = ('blue', 'lightgreen')\n",
    "    cmap = ListedColormap(colors[:len(np.unique(y))])\n",
    "\n",
    "    # plot the decision surface\n",
    "    x1_min, x1_max = X[:, 0].min() - 1, X[:, 0].max() + 1\n",
    "    x2_min, x2_max = X[:, 1].min() - 1, X[:, 1].max() + 1\n",
    "\n",
    "    xx1, xx2 = np.meshgrid(np.arange(x1_min, x1_max, h),\n",
    "                         np.arange(x2_min, x2_max, h))\n",
    "    \n",
    "\n",
    "    if theta is not None:\n",
    "        Z = classifier(np.array([xx1.ravel(), xx2.ravel()]).T, theta)\n",
    "    else:\n",
    "        Z = classifier(np.array([xx1.ravel(), xx2.ravel()]).T)\n",
    "    Z = Z.reshape(xx1.shape)\n",
    "    \n",
    "    plt.contourf(xx1, xx2, Z, alpha=0.4, cmap=cmap)\n",
    "    plt.xlim(xx1.min(), xx1.max())\n",
    "    plt.ylim(xx2.min(), xx2.max())\n",
    "\n",
    "    # plot class samples\n",
    "    for idx, cl in enumerate(np.unique(y)):\n",
    "        plt.scatter(x=X[y == cl, 0], y=X[y == cl, 1],\n",
    "                    alpha=0.8, \n",
    "                    #c=cmap(idx),\n",
    "                    marker=markers[idx], label=cl)"
   ]
  },
  {
   "cell_type": "markdown",
   "metadata": {},
   "source": [
    "# Gradient Descent"
   ]
  },
  {
   "cell_type": "code",
   "execution_count": null,
   "metadata": {},
   "outputs": [],
   "source": [
    "def gradient(X, y, theta, alpha, num_iter):\n",
    "    # empty list to store the value of the cost function over number of iterations\n",
    "    hist = []\n",
    "    \n",
    "    for i in range(num_iter):\n",
    "        # call sigmoid function \n",
    "        hx = sigmoid(X, theta)\n",
    "        # calculate error\n",
    "        error = hx - y\n",
    "        # calculate gradient\n",
    "        grad = X.T.dot(error)\n",
    "        # update values in theta\n",
    "        theta[0] = theta[0] - alpha * error.sum()\n",
    "        theta[1:] = theta[1:] - alpha * grad\n",
    "        \n",
    "        hist.append(cost_function(y, hx))\n",
    "        \n",
    "    return theta, hist"
   ]
  },
  {
   "cell_type": "markdown",
   "metadata": {},
   "source": [
    "# Stochastic Gradient Descent"
   ]
  },
  {
   "cell_type": "code",
   "execution_count": 10,
   "metadata": {},
   "outputs": [],
   "source": [
    "# Gradient Descent function to minimize the Logistic Regression Cost Function.\n",
    "def sgd(X, y, theta, alpha, num_iter):\n",
    "    nth = 0\n",
    "    prev_cost = float(\"inf\")\n",
    "    cost_threshold = 0.01  # in percent\n",
    "    \n",
    "    lossHistory = []    \n",
    "    for epoch in range(num_iter):\n",
    "        epochLoss = []\n",
    "\n",
    "        # shuffle to prevent repeating update cycles\n",
    "        X, y = shuffle(X, y)\n",
    "        for ind, x in enumerate(X):\n",
    "            # call sigmoid function \n",
    "            hx = sigmoid(X, theta)\n",
    "            # calculate error\n",
    "            error = hx - y\n",
    "            # calculate gradient\n",
    "            grad = X.T.dot(error)\n",
    "            # update values in theta\n",
    "            theta[0] = theta[0] - alpha * error.sum()\n",
    "            theta[1:] = theta[1:] - alpha * grad\n",
    "            \n",
    "            cost = cost_function(y, hx)\n",
    "            epochLoss.append(cost)\n",
    "\n",
    "        lossHistory.append(np.average(epochLoss))\n",
    "\n",
    "        # convergence check on 2^nth epoch\n",
    "        if epoch == 2 ** nth:\n",
    "            # cost = compute_cost(weights, features, outputs, regularization_strength)                        \n",
    "            print(\"Epoch is: {} and Cost is: {}\".format(epoch, cost))\n",
    "            \n",
    "            # criterion for stop\n",
    "            if abs(prev_cost - cost) < cost_threshold * prev_cost:\n",
    "                return theta, lossHistory\n",
    "            \n",
    "            prev_cost = cost\n",
    "            nth += 1\n",
    "        \n",
    "    return theta, lossHistory        "
   ]
  },
  {
   "cell_type": "markdown",
   "metadata": {},
   "source": [
    "# Training"
   ]
  },
  {
   "cell_type": "code",
   "execution_count": 11,
   "metadata": {},
   "outputs": [
    {
     "name": "stdout",
     "output_type": "stream",
     "text": [
      "Epoch is: 1 and Cost is: 5.969387849599734\n",
      "Epoch is: 2 and Cost is: 5.815136717680523\n",
      "Epoch is: 4 and Cost is: 5.723946312688835\n",
      "Epoch is: 8 and Cost is: 5.693217061049515\n"
     ]
    }
   ],
   "source": [
    "# m = Number of training examples\n",
    "# n = number of features\n",
    "m, n = X.shape\n",
    "\n",
    "# initialize theta(weights) parameters to zeros\n",
    "theta = np.zeros(1+n)\n",
    "\n",
    "# set learning rate to 0.01 and number of iterations to 500\n",
    "alpha = 0.01\n",
    "num_iter = 1000\n",
    "\n",
    "theta, hist = sgd(X_std, y, theta, alpha, num_iter)"
   ]
  },
  {
   "cell_type": "code",
   "execution_count": 12,
   "metadata": {},
   "outputs": [
    {
     "name": "stdout",
     "output_type": "stream",
     "text": [
      "\n",
      " Logisitc Regression bias(intercept) term : 0.7387254176376092\n",
      "\n",
      " Logisitc Regression estimated coefficients : [ 6.30911471 -0.99604976]\n"
     ]
    }
   ],
   "source": [
    "# print theta paramters \n",
    "print ('\\n Logisitc Regression bias(intercept) term :', theta[0])\n",
    "print ('\\n Logisitc Regression estimated coefficients :', theta[1:])"
   ]
  },
  {
   "cell_type": "code",
   "execution_count": 13,
   "metadata": {},
   "outputs": [
    {
     "data": {
      "text/plain": [
       "Text(0.5, 1.0, 'Logistic Regression')"
      ]
     },
     "execution_count": 13,
     "metadata": {},
     "output_type": "execute_result"
    },
    {
     "data": {
      "image/png": "[encoded data removed]",
      "text/plain": [
       "<Figure size 432x288 with 1 Axes>"
      ]
     },
     "metadata": {
      "needs_background": "light"
     },
     "output_type": "display_data"
    }
   ],
   "source": [
    "plt.plot(range(1, len(hist) + 1), hist)\n",
    "plt.xlabel('Iterations')\n",
    "plt.ylabel('Cost')\n",
    "plt.title('Logistic Regression')"
   ]
  },
  {
   "cell_type": "code",
   "execution_count": 14,
   "metadata": {},
   "outputs": [
    {
     "data": {
      "image/png": "[encoded data removed]",
      "text/plain": [
       "<Figure size 432x288 with 1 Axes>"
      ]
     },
     "metadata": {
      "needs_background": "light"
     },
     "output_type": "display_data"
    }
   ],
   "source": [
    "decision_boundry(X_std, y, theta, classifier=predict)\n",
    "plt.title('Logistic Regression - Gradient Descent')\n",
    "plt.legend(loc='upper left')\n",
    "plt.tight_layout()"
   ]
  },
  {
   "cell_type": "markdown",
   "metadata": {},
   "source": [
    "# Comparing with Scikit-learn"
   ]
  },
  {
   "cell_type": "code",
   "execution_count": 18,
   "metadata": {},
   "outputs": [
    {
     "name": "stdout",
     "output_type": "stream",
     "text": [
      "\n",
      " sklearn bias(intercept) term : [0.1707799]\n",
      "\n",
      " sklearn estimated coefficients : [[ 3.37254832 -0.27023208]]\n"
     ]
    }
   ],
   "source": [
    "from sklearn import linear_model\n",
    "\n",
    "logreg = linear_model.LogisticRegression(solver='lbfgs')\n",
    "\n",
    "logreg.fit(X_std, y)\n",
    "\n",
    "# print theta paramters \n",
    "print ('\\n sklearn bias(intercept) term :', logreg.intercept_)\n",
    "print ('\\n sklearn estimated coefficients :', logreg.coef_)"
   ]
  },
  {
   "cell_type": "code",
   "execution_count": 20,
   "metadata": {},
   "outputs": [
    {
     "data": {
      "image/png": "[encoded data removed]",
      "text/plain": [
       "<Figure size 432x288 with 1 Axes>"
      ]
     },
     "metadata": {
      "needs_background": "light"
     },
     "output_type": "display_data"
    }
   ],
   "source": [
    "decision_boundry(X_std, y, None, classifier=logreg.predict)\n",
    "plt.title('Scikit  learn Logistic Regression Classifier')\n",
    "plt.legend(loc='upper left')\n",
    "plt.tight_layout()"
   ]
  },
  {
   "cell_type": "code",
   "execution_count": null,
   "metadata": {},
   "outputs": [],
   "source": []
  }
 ],
 "metadata": {
  "kernelspec": {
   "display_name": "Python 3",
   "language": "python",
   "name": "python3"
  },
  "language_info": {
   "codemirror_mode": {
    "name": "ipython",
    "version": 3
   },
   "file_extension": ".py",
   "mimetype": "text/x-python",
   "name": "python",
   "nbconvert_exporter": "python",
   "pygments_lexer": "ipython3",
   "version": "3.7.3"
  }
 },
 "nbformat": 4,
 "nbformat_minor": 2
}
